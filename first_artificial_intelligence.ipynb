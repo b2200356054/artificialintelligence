{
 "cells": [
  {
   "cell_type": "markdown",
   "metadata": {},
   "source": [
    "## Packages"
   ]
  },
  {
   "cell_type": "code",
   "execution_count": 9,
   "metadata": {},
   "outputs": [
    {
     "name": "stdout",
     "output_type": "stream",
     "text": [
      "The autoreload extension is already loaded. To reload it, use:\n",
      "  %reload_ext autoreload\n"
     ]
    }
   ],
   "source": [
    "import time\n",
    "import numpy as np\n",
    "import h5py\n",
    "import matplotlib.pyplot as plt\n",
    "import scipy\n",
    "from PIL import Image\n",
    "from scipy import ndimage\n",
    "\n",
    "%matplotlib inline\n",
    "plt.rcParams['figure.figsize'] = (5.0, 4.0) # set default size of plots\n",
    "plt.rcParams['image.interpolation'] = 'nearest'\n",
    "plt.rcParams['image.cmap'] = 'gray'\n",
    "\n",
    "%load_ext autoreload\n",
    "%autoreload 2\n",
    "\n",
    "np.random.seed(1)"
   ]
  },
  {
   "cell_type": "code",
   "execution_count": 10,
   "metadata": {},
   "outputs": [],
   "source": [
    "def load_data(path):\n",
    "    train_dataset = h5py.File(path+'\\\\train_catvnoncat.h5', \"r\")\n",
    "    train_set_x_orig = np.array(train_dataset[\"train_set_x\"][:]) # your train set features\n",
    "    train_set_y_orig = np.array(train_dataset[\"train_set_y\"][:]) # your train set labels\n",
    "\n",
    "    test_dataset = h5py.File(path+'\\\\test_catvnoncat.h5', \"r\")\n",
    "    test_set_x_orig = np.array(test_dataset[\"test_set_x\"][:]) # your test set features\n",
    "    test_set_y_orig = np.array(test_dataset[\"test_set_y\"][:]) # your test set labels\n",
    "\n",
    "    classes = np.array(test_dataset[\"list_classes\"][:]) # the list of classes\n",
    "    \n",
    "    train_set_y_orig = train_set_y_orig.reshape((1, train_set_y_orig.shape[0]))\n",
    "    test_set_y_orig = test_set_y_orig.reshape((1, test_set_y_orig.shape[0]))\n",
    "    \n",
    "    return train_set_x_orig, train_set_y_orig, test_set_x_orig, test_set_y_orig, classes\n"
   ]
  },
  {
   "cell_type": "markdown",
   "metadata": {},
   "source": [
    "## Dataset\n",
    "\n",
    "To be familiar with the dataset, load the data by running the cell below."
   ]
  },
  {
   "cell_type": "code",
   "execution_count": 11,
   "metadata": {},
   "outputs": [],
   "source": [
    "train_x_orig, train_y, test_x_orig, test_y, classes = load_data('C:\\\\Users\\\\Eren\\\\Desktop') # you need to change your dataset path"
   ]
  },
  {
   "cell_type": "markdown",
   "metadata": {},
   "source": [
    "The following code will show you an image in the dataset. Feel free to change the index and re-run the cell multiple times to see other images. "
   ]
  },
  {
   "cell_type": "code",
   "execution_count": 12,
   "metadata": {},
   "outputs": [
    {
     "name": "stdout",
     "output_type": "stream",
     "text": [
      "y = 1. It's a cat picture.\n"
     ]
    },
    {
     "data": {
      "image/png": "[encoded data removed]",
      "text/plain": [
       "<Figure size 360x288 with 1 Axes>"
      ]
     },
     "metadata": {
      "needs_background": "light"
     },
     "output_type": "display_data"
    }
   ],
   "source": [
    "# Example of a picture\n",
    "index = 2\n",
    "plt.imshow(train_x_orig[index])\n",
    "print (\"y = \" + str(train_y[0,index]) + \". It's a \" + classes[train_y[0,index]].decode(\"utf-8\") +  \" picture.\")"
   ]
  },
  {
   "cell_type": "code",
   "execution_count": 13,
   "metadata": {},
   "outputs": [
    {
     "data": {
      "text/plain": [
       "'print (\"Number of training examples: \" + str(m_train))\\nprint (\"Number of testing examples: \" + str(m_test))\\nprint (\"Each image is of size: (\" + str(num_px) + \", \" + str(num_px) + \", 3)\")\\nprint (\"train_x_orig shape: \" + str(train_x_orig.shape))\\nprint (\"train_y shape: \" + str(train_y.shape))\\nprint (\"test_x_orig shape: \" + str(test_x_orig.shape))\\nprint (\"test_y shape: \" + str(test_y.shape))'"
      ]
     },
     "execution_count": 13,
     "metadata": {},
     "output_type": "execute_result"
    }
   ],
   "source": [
    "# Explore your dataset \n",
    "m_train = train_x_orig.shape[0]\n",
    "num_px = train_x_orig.shape[1]\n",
    "m_test = test_x_orig.shape[0]\n",
    "\n",
    "'''print (\"Number of training examples: \" + str(m_train))\n",
    "print (\"Number of testing examples: \" + str(m_test))\n",
    "print (\"Each image is of size: (\" + str(num_px) + \", \" + str(num_px) + \", 3)\")\n",
    "print (\"train_x_orig shape: \" + str(train_x_orig.shape))\n",
    "print (\"train_y shape: \" + str(train_y.shape))\n",
    "print (\"test_x_orig shape: \" + str(test_x_orig.shape))\n",
    "print (\"test_y shape: \" + str(test_y.shape))'''"
   ]
  },
  {
   "cell_type": "code",
   "execution_count": 14,
   "metadata": {},
   "outputs": [
    {
     "data": {
      "text/plain": [
       "'\\nprint (\"train_x\\'s shape: \" + str(train_x.shape))\\nprint (\"test_x\\'s shape: \" + str(test_x.shape))\\nprint(\"train_y\\'s shape\"+ str(train_y.shape))\\nprint(\"test_y\\'s shape\"+ str(test_y.shape))\\nprint(len(train_x[1]))'"
      ]
     },
     "execution_count": 14,
     "metadata": {},
     "output_type": "execute_result"
    }
   ],
   "source": [
    "# Reshape the training and test examples \n",
    "\n",
    "train_x_flatten = train_x_orig.reshape(train_x_orig.shape[0], -1).T   # The \"-1\" makes reshape flatten the remaining dimensions\n",
    "test_x_flatten = test_x_orig.reshape(test_x_orig.shape[0], -1).T\n",
    "\n",
    "# Standardize data to have feature values between 0 and 1.\n",
    "train_x = train_x_flatten/255.\n",
    "test_x = test_x_flatten/255.\n",
    "'''\n",
    "print (\"train_x's shape: \" + str(train_x.shape))\n",
    "print (\"test_x's shape: \" + str(test_x.shape))\n",
    "print(\"train_y's shape\"+ str(train_y.shape))\n",
    "print(\"test_y's shape\"+ str(test_y.shape))\n",
    "print(len(train_x[1]))'''"
   ]
  },
  {
   "cell_type": "code",
   "execution_count": 15,
   "metadata": {
    "collapsed": true
   },
   "outputs": [],
   "source": [
    "### CONSTANTS DEFINING THE MODEL ####\n",
    "n_x = 12288     # num_px * num_px * 3\n",
    "n_h = 7\n",
    "n_y = 1\n",
    "layers_dims = (n_x, n_h, n_y)"
   ]
  },
  {
   "cell_type": "code",
   "execution_count": 16,
   "metadata": {},
   "outputs": [],
   "source": [
    "def initialize_parameters_deep(layers_dims):\n",
    "    \"\"\"\n",
    "    Arguments:\n",
    "    layer_dims -- python array (list) containing the dimensions of each layer in our network\n",
    "    \n",
    "    Returns:\n",
    "    parameters -- python dictionary containing your parameters \"W1\", \"b1\",\"W2\", \"b2\":\n",
    "    \"\"\"\n",
    "    \n",
    "    \n",
    "    np.random.seed(1)\n",
    "    parameters = {}\n",
    "    \n",
    "    parameters[\"W1\"] = np.random.randn(layers_dims[1],layers_dims[0])\n",
    "    parameters[\"b1\"] = np.random.randn(layers_dims[1],layers_dims[2])\n",
    "    parameters[\"W2\"] = np.random.randn(layers_dims[1],layers_dims[2])\n",
    "    parameters[\"b2\"] = np.random.randn(layers_dims[2],layers_dims[2])\n",
    "    return parameters\n",
    "    \n"
   ]
  },
  {
   "cell_type": "code",
   "execution_count": 17,
   "metadata": {},
   "outputs": [],
   "source": [
    "def linear_activation_forward(X,parameters):\n",
    "    \"\"\"\n",
    "    Implement the forward propagation\n",
    "\n",
    "    Arguments:\n",
    "    X -- input data:\n",
    "    parameters -- python dictionary containing your parameters \"W1\", \"b1\",\"W2\", \"b2\":\n",
    "\n",
    "    Returns:\n",
    "    AL -- output of the forward propogation\n",
    "    \"\"\"\n",
    "    AL = []\n",
    "    Z1 = []\n",
    "    Z2 = []\n",
    "    A1 = []\n",
    "    steps = dict()\n",
    "    def sigmoid(x):\n",
    "        result = 1/(1+np.exp(-x))\n",
    "        return result\n",
    "    for x in range(int(len(X[1]))):    \n",
    "        hidden_output = []\n",
    "        z1list = []\n",
    "        \n",
    "        for i in range(n_h):\n",
    "            hidden_layer_output = np.dot(parameters[\"W1\"][i,:], X[:,x].T)+parameters[\"b1\"][i]##########LİNEAR 1 Z1\n",
    "            z1list.append(hidden_layer_output)\n",
    "            hidden_output.append(max(0,float(hidden_layer_output)))##########.#RELU A1      \n",
    "        \n",
    "        A1.append(sum(hidden_output)/7)\n",
    "        Z1.append(z1list)\n",
    "        hidden_output = np.array(hidden_output).reshape(1,7)\n",
    "        linear2 = float(np.dot(hidden_output[:,0], parameters[\"W2\"][0,:])+parameters[\"b2\"][0]) #LİNEAR 2 Z2\n",
    "        Z2.append(linear2)\n",
    "        lastsigma = sigmoid(linear2) #A2\n",
    "        AL.append(lastsigma)\n",
    "    \n",
    "\n",
    "    AL = np.array(AL).reshape(len(AL),1)\n",
    "    \n",
    "    return AL\n",
    "\n"
   ]
  },
  {
   "cell_type": "code",
   "execution_count": 18,
   "metadata": {},
   "outputs": [],
   "source": [
    "def compute_cost(AL, Y):\n",
    "    \"\"\"\n",
    "    Implement the cost function defined by equation (7).\n",
    "\n",
    "    Arguments:\n",
    "    AL -- probability vector corresponding to your label predictions, shape (1, number of examples)\n",
    "    Y -- true \"label\" vector (for example: containing 0 if non-cat, 1 if cat), shape (1, number of examples)\n",
    "\n",
    "    Returns:\n",
    "    cost -- cost\n",
    "    \"\"\"\n",
    "    cost = 0\n",
    "    AL = np.array(AL).reshape(len(AL),)\n",
    "    AL = np.clip(AL, 1e-7, 1-1e-7)\n",
    "    for i in range(len(AL)):\n",
    "        cost = cost + (1-Y.T[i])*(np.log(1-float(AL[i]))) + (Y.T[i]*(np.log(float(AL[i]))))\n",
    "    cost = (-1/len(AL))*cost\n",
    "    return cost   "
   ]
  },
  {
   "cell_type": "code",
   "execution_count": null,
   "metadata": {},
   "outputs": [],
   "source": []
  },
  {
   "cell_type": "code",
   "execution_count": 19,
   "metadata": {},
   "outputs": [],
   "source": [
    "def linear_activation_backward(X,cost):\n",
    "    \"\"\"\n",
    "    Implement the backward propagation\n",
    "    \n",
    "    Arguments:\n",
    "    X -- input data\n",
    "    cost -- cost\n",
    "    \n",
    "    Returns:\n",
    "    grads --  A dictionary with the gradients\n",
    "             grads[\"dW1\"]\n",
    "             grads[\"db1\"]\n",
    "             grads[\"dW2\"]\n",
    "             grads[\"db2\"]\n",
    "    \"\"\"\n",
    "    grads = dict()\n",
    "    parameters = initialize_parameters_deep(layers_dims)\n",
    "    dZ2 = cost/len(X[1])\n",
    "    Z2 = np.log((1-dZ2)/dZ2)\n",
    "    A1 = (Z2-np.sum(parameters[\"b2\"])/len(parameters[\"b2\"]))/(np.sum(parameters[\"W2\"])/len(parameters[\"W2\"]))\n",
    "    dW2 = A1*dZ2\n",
    "    Z1 = (np.sum(X, axis=1)/len(X[1]))*(np.sum(parameters[\"W1\"].T, axis=1)/len(parameters[\"W1\"][0]))+(np.sum(parameters[\"b1\"])/len(parameters[\"b1\"]))\n",
    "    dZ1 = dW2*dZ2\n",
    "    dW1 = dZ1*(np.sum(X, axis=1)/len(X[1]))\n",
    "    db1 = dZ1\n",
    "    grads[\"dW2\"] = dW2\n",
    "    grads[\"db2\"] = dZ2\n",
    "    grads[\"dW1\"] = np.sum(dW1)/len(dW1)\n",
    "    grads[\"db1\"] = db1\n",
    "    return grads\n",
    "    \n",
    "\n",
    "    "
   ]
  },
  {
   "cell_type": "code",
   "execution_count": 20,
   "metadata": {},
   "outputs": [],
   "source": [
    "def update_parameters(parameters, grads, learning_rate):\n",
    "    \"\"\"\n",
    "    Update parameters using gradient descent\n",
    "    \n",
    "    Arguments:\n",
    "    pa rameters -- python dictionary containing your parameters \n",
    "    grads -- python dictionary containing your gradients, output of L_model_backward\n",
    "    \n",
    "    Returns:\n",
    "    parameters -- python dictionary containing your updated parameters \n",
    "             parameters[\"W1\"]\n",
    "             parameters[\"b1\"]\n",
    "             parameters[\"W2\"]\n",
    "             parameters[\"b2\"]\n",
    "    \"\"\"\n",
    "    parameters[\"b2\"] = parameters[\"b2\"] - (learning_rate*grads[\"db2\"])\n",
    "    parameters[\"b1\"] = parameters[\"b1\"] - (learning_rate*grads[\"db1\"])\n",
    "    for i in range(len(train_y[0])):    \n",
    "        parameters[\"W2\"] = parameters[\"W2\"] - (learning_rate*grads[\"dW2\"])\n",
    "        parameters[\"W1\"] = parameters[\"W1\"] - (learning_rate*grads[\"dW1\"])\n",
    "        \n",
    "    return parameters"
   ]
  },
  {
   "cell_type": "code",
   "execution_count": 21,
   "metadata": {},
   "outputs": [],
   "source": [
    "def predict(test_x, test_y, parameters):\n",
    "    prediction = []\n",
    "    test = linear_activation_forward(test_x, parameters)[:,0]\n",
    "    real = test_y[0,:].T\n",
    "    for i in range(len(real)):\n",
    "        if round(float(test[i])) == int(real[i]):\n",
    "            prediction.append(1)\n",
    "        else:\n",
    "            prediction.append(0)\n",
    "    \n",
    "    accuracy = (prediction.count(1)/len(prediction))*100\n",
    "    return accuracy"
   ]
  },
  {
   "cell_type": "code",
   "execution_count": 25,
   "metadata": {},
   "outputs": [],
   "source": [
    "def plot_loss(costs):\n",
    "   \"\"\"\n",
    "   Plot loss\n",
    "   costs - cost of each iteration\n",
    "   \n",
    "   \"\"\" \n",
    "   xlabel = []\n",
    "   for i in range(len(costs)):\n",
    "      xlabel.append(i*100)\n",
    "   ylabel = costs\n",
    "   plt.plot(xlabel, ylabel)\n",
    "   plt.xlabel(\"Iterations\")\n",
    "   plt.ylabel(\"Cost\")\n",
    "   plt.title(\"Cost - Iteration\")\n",
    "   plt.show()"
   ]
  },
  {
   "cell_type": "code",
   "execution_count": 26,
   "metadata": {
    "collapsed": true
   },
   "outputs": [],
   "source": [
    "def two_layer_model(X, Y, layers_dims, learning_rate = 0.0075, num_iterations = 3000):\n",
    "    \"\"\"\n",
    "    Implements a two-layer neural network: LINEAR->RELU->LINEAR->SIGMOID.\n",
    "    \n",
    "    Arguments:\n",
    "    X -- input data, of shape (n_x, number of examples)\n",
    "    Y -- true \"label\" vector (containing 1 if cat, 0 if non-cat), of shape (1, number of examples)\n",
    "    layers_dims -- dimensions of the layers (n_x, n_h, n_y)\n",
    "    num_iterations -- number of iterations of the optimization loop\n",
    "    learning_rate -- learning rate of the gradient descent update rule\n",
    "    print_cost -- If set to True, this will print the cost every 100 iterations \n",
    "    \n",
    "    Returns:\n",
    "    parameters -- a dictionary containing W1, W2, b1, and b2\n",
    "    \"\"\"\n",
    "    \n",
    "    np.random.seed(1)\n",
    "    grads = {}\n",
    "    costs = []                             \n",
    "    m = X.shape[1]                          \n",
    "    (n_x, n_h, n_y) = layers_dims\n",
    "    parameters = initialize_parameters_deep(layers_dims)\n",
    "    W1 = parameters[\"W1\"]\n",
    "    b1 = parameters[\"b1\"]\n",
    "    W2 = parameters[\"W2\"]\n",
    "    b2 = parameters[\"b2\"]\n",
    "    for i in range(0, num_iterations):\n",
    "        AL = linear_activation_forward(X, parameters)\n",
    "        cost = compute_cost(AL ,Y)\n",
    "        grads = linear_activation_backward(X, cost)\n",
    "        parameters = update_parameters(parameters, grads, learning_rate)\n",
    "        if i % 100 == 0:\n",
    "            print(\"Cost after iteration {}: {}\".format(i, np.squeeze(cost)))\n",
    "        if i % 100 == 0:\n",
    "            costs.append(cost)\n",
    "    return parameters, costs"
   ]
  },
  {
   "cell_type": "code",
   "execution_count": 27,
   "metadata": {},
   "outputs": [
    {
     "name": "stdout",
     "output_type": "stream",
     "text": [
      "Cost after iteration 0: 4.5263699463853495\n",
      "Cost after iteration 100: 0.7800682382007366\n",
      "Cost after iteration 200: 0.7202005751473676\n",
      "Cost after iteration 300: 0.7196999054819592\n",
      "Cost after iteration 400: 0.7192012406510239\n",
      "Cost after iteration 500: 0.7187045761431767\n",
      "Cost after iteration 600: 0.7182099074642309\n",
      "Cost after iteration 700: 0.7177172301370943\n",
      "Cost after iteration 800: 0.7172265397017628\n",
      "Cost after iteration 900: 0.7167378317152306\n",
      "Cost after iteration 1000: 0.7162511017514781\n",
      "Cost after iteration 1100: 0.7157663454013813\n",
      "Cost after iteration 1200: 0.7152835582726976\n",
      "Cost after iteration 1300: 0.7148027359900007\n",
      "Cost after iteration 1400: 0.7143238741946171\n",
      "Cost after iteration 1500: 0.7138469685445975\n",
      "Cost after iteration 1600: 0.7133720147146605\n",
      "Cost after iteration 1700: 0.7128990083961336\n",
      "Cost after iteration 1800: 0.7124279452969191\n",
      "Cost after iteration 1900: 0.7119588211414298\n",
      "Cost after iteration 2000: 0.7114916316705426\n",
      "Cost after iteration 2100: 0.7110263726415681\n",
      "Cost after iteration 2200: 0.7105630398281684\n",
      "Cost after iteration 2300: 0.7101016290203441\n",
      "Cost after iteration 2400: 0.7096421360243531\n",
      "Cost after iteration 2500: 0.7091845566626819\n",
      "Cost after iteration 2600: 0.7087288867739937\n",
      "Cost after iteration 2700: 0.708275122213081\n",
      "Cost after iteration 2800: 0.707823258850805\n",
      "Cost after iteration 2900: 0.7073732925740699\n"
     ]
    },
    {
     "ename": "NameError",
     "evalue": "name 'redict' is not defined",
     "output_type": "error",
     "traceback": [
      "\u001b[1;31m---------------------------------------------------------------------------\u001b[0m",
      "\u001b[1;31mNameError\u001b[0m                                 Traceback (most recent call last)",
      "\u001b[1;32m~\\AppData\\Local\\Temp/ipykernel_10644/1671193644.py\u001b[0m in \u001b[0;36m<module>\u001b[1;34m\u001b[0m\n\u001b[0;32m      3\u001b[0m     \u001b[0mprint\u001b[0m\u001b[1;33m(\u001b[0m\u001b[0mredict\u001b[0m\u001b[1;33m(\u001b[0m\u001b[0mtest_x\u001b[0m\u001b[1;33m,\u001b[0m \u001b[0mtest_y\u001b[0m\u001b[1;33m,\u001b[0m \u001b[0mparameters\u001b[0m\u001b[1;33m)\u001b[0m\u001b[1;33m)\u001b[0m\u001b[1;33m\u001b[0m\u001b[1;33m\u001b[0m\u001b[0m\n\u001b[0;32m      4\u001b[0m     \u001b[0mplot_loss\u001b[0m\u001b[1;33m(\u001b[0m\u001b[0mcosts\u001b[0m\u001b[1;33m)\u001b[0m\u001b[1;33m\u001b[0m\u001b[1;33m\u001b[0m\u001b[0m\n\u001b[1;32m----> 5\u001b[1;33m \u001b[0mmain\u001b[0m\u001b[1;33m(\u001b[0m\u001b[1;33m)\u001b[0m\u001b[1;33m\u001b[0m\u001b[1;33m\u001b[0m\u001b[0m\n\u001b[0m\u001b[0;32m      6\u001b[0m \u001b[1;33m\u001b[0m\u001b[0m\n",
      "\u001b[1;32m~\\AppData\\Local\\Temp/ipykernel_10644/1671193644.py\u001b[0m in \u001b[0;36mmain\u001b[1;34m()\u001b[0m\n\u001b[0;32m      1\u001b[0m \u001b[1;32mdef\u001b[0m \u001b[0mmain\u001b[0m\u001b[1;33m(\u001b[0m\u001b[1;33m)\u001b[0m\u001b[1;33m:\u001b[0m\u001b[1;33m\u001b[0m\u001b[1;33m\u001b[0m\u001b[0m\n\u001b[0;32m      2\u001b[0m     \u001b[0mparameters\u001b[0m\u001b[1;33m,\u001b[0m \u001b[0mcosts\u001b[0m \u001b[1;33m=\u001b[0m \u001b[0mtwo_layer_model\u001b[0m\u001b[1;33m(\u001b[0m\u001b[0mtrain_x\u001b[0m\u001b[1;33m,\u001b[0m \u001b[0mtrain_y\u001b[0m\u001b[1;33m,\u001b[0m \u001b[0mlayers_dims\u001b[0m\u001b[1;33m,\u001b[0m \u001b[0mlearning_rate\u001b[0m \u001b[1;33m=\u001b[0m \u001b[1;36m0.0075\u001b[0m\u001b[1;33m,\u001b[0m \u001b[0mnum_iterations\u001b[0m \u001b[1;33m=\u001b[0m \u001b[1;36m3000\u001b[0m\u001b[1;33m)\u001b[0m\u001b[1;33m\u001b[0m\u001b[1;33m\u001b[0m\u001b[0m\n\u001b[1;32m----> 3\u001b[1;33m     \u001b[0mprint\u001b[0m\u001b[1;33m(\u001b[0m\u001b[0mredict\u001b[0m\u001b[1;33m(\u001b[0m\u001b[0mtest_x\u001b[0m\u001b[1;33m,\u001b[0m \u001b[0mtest_y\u001b[0m\u001b[1;33m,\u001b[0m \u001b[0mparameters\u001b[0m\u001b[1;33m)\u001b[0m\u001b[1;33m)\u001b[0m\u001b[1;33m\u001b[0m\u001b[1;33m\u001b[0m\u001b[0m\n\u001b[0m\u001b[0;32m      4\u001b[0m     \u001b[0mplot_loss\u001b[0m\u001b[1;33m(\u001b[0m\u001b[0mcosts\u001b[0m\u001b[1;33m)\u001b[0m\u001b[1;33m\u001b[0m\u001b[1;33m\u001b[0m\u001b[0m\n\u001b[0;32m      5\u001b[0m \u001b[0mmain\u001b[0m\u001b[1;33m(\u001b[0m\u001b[1;33m)\u001b[0m\u001b[1;33m\u001b[0m\u001b[1;33m\u001b[0m\u001b[0m\n",
      "\u001b[1;31mNameError\u001b[0m: name 'redict' is not defined"
     ]
    }
   ],
   "source": [
    "def main():\n",
    "    parameters, costs = two_layer_model(train_x, train_y, layers_dims, learning_rate = 0.0075, num_iterations = 3000)\n",
    "    print(predict(test_x, test_y, parameters))\n",
    "    plot_loss(costs)\n",
    "main()\n",
    "    "
   ]
  }
 ],
 "metadata": {
  "kernelspec": {
   "display_name": "Python 3",
   "language": "python",
   "name": "python3"
  },
  "language_info": {
   "codemirror_mode": {
    "name": "ipython",
    "version": 3
   },
   "file_extension": ".py",
   "mimetype": "text/x-python",
   "name": "python",
   "nbconvert_exporter": "python",
   "pygments_lexer": "ipython3",
   "version": "3.10.0"
  }
 },
 "nbformat": 4,
 "nbformat_minor": 2
}
